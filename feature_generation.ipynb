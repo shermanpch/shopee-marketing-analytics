{
 "cells": [
  {
   "cell_type": "code",
   "execution_count": 1,
   "metadata": {
    "ExecuteTime": {
     "end_time": "2020-08-11T02:26:58.284430Z",
     "start_time": "2020-08-11T02:26:57.342535Z"
    }
   },
   "outputs": [],
   "source": [
    "import pandas as pd\n",
    "pd.options.display.max_columns = None\n",
    "pd.options.mode.chained_assignment = None\n",
    "import numpy as np\n",
    " \n",
    "import matplotlib.pyplot as plt\n",
    "import seaborn as sns\n",
    "sns.set('talk')\n",
    "sns.set_style('white')\n",
    "\n",
    "from sklearn.base import BaseEstimator, TransformerMixin\n",
    "\n",
    "import warnings\n",
    "warnings.simplefilter(action='ignore', category=FutureWarning)\n",
    "from tqdm import tqdm\n",
    "tqdm.pandas()"
   ]
  },
  {
   "cell_type": "code",
   "execution_count": 2,
   "metadata": {
    "ExecuteTime": {
     "end_time": "2020-08-11T02:26:58.504173Z",
     "start_time": "2020-08-11T02:26:58.285427Z"
    }
   },
   "outputs": [],
   "source": [
    "train = pd.read_csv('train.csv')\n",
    "test = pd.read_csv('test.csv')"
   ]
  },
  {
   "cell_type": "code",
   "execution_count": 3,
   "metadata": {
    "ExecuteTime": {
     "end_time": "2020-08-11T02:26:58.550904Z",
     "start_time": "2020-08-11T02:26:58.508991Z"
    }
   },
   "outputs": [
    {
     "data": {
      "text/plain": [
       "country_code                       0\n",
       "grass_date                         0\n",
       "user_id                            0\n",
       "subject_line_length                0\n",
       "last_open_day                      0\n",
       "last_login_day                     0\n",
       "last_checkout_day                  0\n",
       "open_count_last_10_days            0\n",
       "open_count_last_30_days            0\n",
       "open_count_last_60_days            0\n",
       "login_count_last_10_days           0\n",
       "login_count_last_30_days           0\n",
       "login_count_last_60_days           0\n",
       "checkout_count_last_10_days        0\n",
       "checkout_count_last_30_days        0\n",
       "checkout_count_last_60_days        0\n",
       "open_flag                          0\n",
       "row_id                             0\n",
       "attr_1                         24646\n",
       "attr_2                           264\n",
       "attr_3                             0\n",
       "age                            24646\n",
       "domain                             0\n",
       "dtype: int64"
      ]
     },
     "metadata": {},
     "output_type": "display_data"
    },
    {
     "name": "stdout",
     "output_type": "stream",
     "text": [
      "**************************************\n"
     ]
    },
    {
     "data": {
      "text/plain": [
       "country_code                       0\n",
       "grass_date                         0\n",
       "user_id                            0\n",
       "subject_line_length                0\n",
       "last_open_day                      0\n",
       "last_login_day                     0\n",
       "last_checkout_day                  0\n",
       "open_count_last_10_days            0\n",
       "open_count_last_30_days            0\n",
       "open_count_last_60_days            0\n",
       "login_count_last_10_days           0\n",
       "login_count_last_30_days           0\n",
       "login_count_last_60_days           0\n",
       "checkout_count_last_10_days        0\n",
       "checkout_count_last_30_days        0\n",
       "checkout_count_last_60_days        0\n",
       "row_id                             0\n",
       "attr_1                         21233\n",
       "attr_2                           168\n",
       "attr_3                             0\n",
       "age                            21233\n",
       "domain                             0\n",
       "dtype: int64"
      ]
     },
     "metadata": {},
     "output_type": "display_data"
    }
   ],
   "source": [
    "display(train.isnull().sum(axis=0))\n",
    "print('**************************************')\n",
    "display(test.isnull().sum(axis=0))"
   ]
  },
  {
   "cell_type": "code",
   "execution_count": 4,
   "metadata": {
    "ExecuteTime": {
     "end_time": "2020-08-11T02:26:58.566833Z",
     "start_time": "2020-08-11T02:26:58.551873Z"
    }
   },
   "outputs": [],
   "source": [
    "class featureTransformation(BaseEstimator, TransformerMixin):\n",
    "    def __init__(self, ):\n",
    "        None\n",
    "        \n",
    "    def fit(self, X, y=None):\n",
    "        return self\n",
    "    \n",
    "    def transform(self, X):\n",
    "        \n",
    "        temp = X.copy(deep=True)\n",
    "\n",
    "        temp['last_open_day'] = temp['last_open_day'].replace('Never open', str(-999)).astype(int)\n",
    "        temp['last_login_day'] = temp['last_login_day'].replace('Never login', str(-999)).astype(int)\n",
    "        temp['last_checkout_day'] = temp['last_checkout_day'].replace('Never checkout', str(-999)).astype(int)\n",
    "        \n",
    "#         temp['last_open_login_checkout_sum'] = temp['last_open_day'] + temp['last_login_day'] + temp['last_checkout_day']\n",
    "#         temp['last_open_login_sum'] = temp['last_open_day'] + temp['last_login_day']\n",
    "#         temp['last_open_checkout_sum'] = temp['last_open_day'] + temp['last_checkout_day']\n",
    "#         temp['last_login_checkout_sum'] = temp['last_login_day'] + temp['last_checkout_day']\n",
    "        \n",
    "        temp['open_count_last_diff_20'] = temp['open_count_last_30_days'] - temp['open_count_last_10_days']\n",
    "        temp['open_count_last_diff_30'] = temp['open_count_last_60_days'] - temp['open_count_last_30_days']\n",
    "        temp['open_count_last_diff_50'] = temp['open_count_last_60_days'] - temp['open_count_last_10_days']\n",
    "                \n",
    "#         temp['open_count_last_ratio_30_60'] = temp['open_count_last_30_days'] / temp['open_count_last_60_days']\n",
    "#         temp['open_count_last_ratio_10_60'] = temp['open_count_last_10_days'] / temp['open_count_last_60_days']\n",
    "#         temp['open_count_last_ratio_10_30'] = temp['open_count_last_10_days'] / temp['open_count_last_30_days']\n",
    "        \n",
    "#         temp['open_count_ratio_diff_20_30'] = temp['open_count_last_diff_20'] / temp['open_count_last_30_days']\n",
    "#         temp['open_count_ratio_diff_30_60'] = temp['open_count_last_diff_30'] / temp['open_count_last_60_days']\n",
    "#         temp['open_count_ratio_diff_50_60'] = temp['open_count_last_diff_50'] / temp['open_count_last_60_days']\n",
    "        \n",
    "        temp['login_count_last_diff_20'] = (temp['login_count_last_30_days'] - temp['login_count_last_10_days'])\n",
    "        temp['login_count_last_diff_30'] = (temp['login_count_last_60_days'] - temp['login_count_last_30_days'])\n",
    "        temp['login_count_last_diff_50'] = (temp['login_count_last_60_days'] - temp['login_count_last_10_days'])\n",
    "        \n",
    "#         temp['login_count_last_ratio_30_60'] = temp['login_count_last_30_days'] / temp['login_count_last_60_days']\n",
    "#         temp['login_count_last_ratio_10_60'] = temp['login_count_last_10_days'] / temp['login_count_last_60_days']\n",
    "#         temp['login_count_last_ratio_10_30'] = temp['login_count_last_10_days'] / temp['login_count_last_30_days']\n",
    "        \n",
    "#         temp['login_count_ratio_diff_20_30'] = temp['login_count_last_diff_20'] / temp['login_count_last_30_days']\n",
    "#         temp['login_count_ratio_diff_30_60'] = temp['login_count_last_diff_30'] / temp['login_count_last_60_days']\n",
    "#         temp['login_count_ratio_diff_50_60'] = temp['login_count_last_diff_50'] / temp['login_count_last_60_days']\n",
    "        \n",
    "#         temp['checkout_count_last_diff_20'] = temp['checkout_count_last_30_days'] - temp['checkout_count_last_60_days']\n",
    "#         temp['checkout_count_last_diff_30'] = temp['checkout_count_last_10_days'] - temp['checkout_count_last_60_days']\n",
    "#         temp['checkout_count_last_diff_50'] = temp['checkout_count_last_10_days'] - temp['checkout_count_last_30_days']\n",
    "        \n",
    "#         temp['checkout_count_last_ratio_30_60'] = temp['checkout_count_last_30_days'] / temp['checkout_count_last_60_days']\n",
    "#         temp['checkout_count_last_ratio_10_60'] = temp['checkout_count_last_10_days'] / temp['checkout_count_last_60_days']\n",
    "#         temp['checkout_count_last_ratio_10_30'] = temp['checkout_count_last_10_days'] / temp['checkout_count_last_30_days']\n",
    "        \n",
    "#         temp['checkout_count_ratio_diff_20_30'] = temp['checkout_count_last_diff_20'] / temp['checkout_count_last_30_days']\n",
    "#         temp['checkout_count_ratio_diff_30_60'] = temp['checkout_count_last_diff_30'] / temp['checkout_count_last_60_days']\n",
    "#         temp['checkout_count_ratio_diff_50_60'] = temp['checkout_count_last_diff_50'] / temp['checkout_count_last_60_days']\n",
    "        \n",
    "        temp['grass_day'] = pd.to_datetime(temp['grass_date']).dt.dayofweek\n",
    "#         temp['grass_date'] = pd.to_datetime(temp['grass_date']).dt.day\n",
    "        temp.fillna(-999, inplace=True)\n",
    "        temp.replace(-np.inf, -999_999, inplace=True)\n",
    "        temp.replace(np.inf, 999_999, inplace=True)\n",
    "        result = temp.drop(columns=['user_id', 'row_id', 'grass_date', 'attr_1', 'attr_2', 'attr_3'])\n",
    "        \n",
    "        return result"
   ]
  },
  {
   "cell_type": "code",
   "execution_count": 5,
   "metadata": {
    "ExecuteTime": {
     "end_time": "2020-08-11T02:26:59.197275Z",
     "start_time": "2020-08-11T02:26:58.567831Z"
    },
    "scrolled": true
   },
   "outputs": [
    {
     "data": {
      "text/plain": [
       "country_code                   0\n",
       "subject_line_length            0\n",
       "last_open_day                  0\n",
       "last_login_day                 0\n",
       "last_checkout_day              0\n",
       "open_count_last_10_days        0\n",
       "open_count_last_30_days        0\n",
       "open_count_last_60_days        0\n",
       "login_count_last_10_days       0\n",
       "login_count_last_30_days       0\n",
       "login_count_last_60_days       0\n",
       "checkout_count_last_10_days    0\n",
       "checkout_count_last_30_days    0\n",
       "checkout_count_last_60_days    0\n",
       "open_flag                      0\n",
       "age                            0\n",
       "domain                         0\n",
       "open_count_last_diff_20        0\n",
       "open_count_last_diff_30        0\n",
       "open_count_last_diff_50        0\n",
       "login_count_last_diff_20       0\n",
       "login_count_last_diff_30       0\n",
       "login_count_last_diff_50       0\n",
       "grass_day                      0\n",
       "dtype: int64"
      ]
     },
     "metadata": {},
     "output_type": "display_data"
    },
    {
     "name": "stdout",
     "output_type": "stream",
     "text": [
      "**************************************\n"
     ]
    },
    {
     "data": {
      "text/plain": [
       "country_code                   0\n",
       "subject_line_length            0\n",
       "last_open_day                  0\n",
       "last_login_day                 0\n",
       "last_checkout_day              0\n",
       "open_count_last_10_days        0\n",
       "open_count_last_30_days        0\n",
       "open_count_last_60_days        0\n",
       "login_count_last_10_days       0\n",
       "login_count_last_30_days       0\n",
       "login_count_last_60_days       0\n",
       "checkout_count_last_10_days    0\n",
       "checkout_count_last_30_days    0\n",
       "checkout_count_last_60_days    0\n",
       "age                            0\n",
       "domain                         0\n",
       "open_count_last_diff_20        0\n",
       "open_count_last_diff_30        0\n",
       "open_count_last_diff_50        0\n",
       "login_count_last_diff_20       0\n",
       "login_count_last_diff_30       0\n",
       "login_count_last_diff_50       0\n",
       "grass_day                      0\n",
       "dtype: int64"
      ]
     },
     "metadata": {},
     "output_type": "display_data"
    }
   ],
   "source": [
    "feature_transform = featureTransformation()\n",
    "\n",
    "train_data = feature_transform.fit_transform(train)\n",
    "test_data = feature_transform.transform(test)\n",
    "\n",
    "display(train_data.isnull().sum(axis=0))\n",
    "print('**************************************')\n",
    "display(test_data.isnull().sum(axis=0))\n",
    "\n",
    "train_data.to_csv('train_data.csv', index=False)\n",
    "test_data.to_csv('test_data.csv', index=False)"
   ]
  }
 ],
 "metadata": {
  "kernelspec": {
   "display_name": "Python 3",
   "language": "python",
   "name": "python3"
  },
  "language_info": {
   "codemirror_mode": {
    "name": "ipython",
    "version": 3
   },
   "file_extension": ".py",
   "mimetype": "text/x-python",
   "name": "python",
   "nbconvert_exporter": "python",
   "pygments_lexer": "ipython3",
   "version": "3.7.7"
  },
  "toc": {
   "base_numbering": 1,
   "nav_menu": {},
   "number_sections": true,
   "sideBar": true,
   "skip_h1_title": false,
   "title_cell": "Table of Contents",
   "title_sidebar": "Contents",
   "toc_cell": false,
   "toc_position": {},
   "toc_section_display": true,
   "toc_window_display": false
  }
 },
 "nbformat": 4,
 "nbformat_minor": 4
}
