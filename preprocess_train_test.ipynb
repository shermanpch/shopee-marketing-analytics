{
 "cells": [
  {
   "cell_type": "code",
   "execution_count": 1,
   "metadata": {
    "ExecuteTime": {
     "end_time": "2020-08-10T05:58:29.300669Z",
     "start_time": "2020-08-10T05:58:28.355529Z"
    }
   },
   "outputs": [],
   "source": [
    "import pandas as pd\n",
    "pd.options.display.max_columns = None\n",
    "pd.options.mode.chained_assignment = None\n",
    "import numpy as np\n",
    " \n",
    "import matplotlib.pyplot as plt\n",
    "import seaborn as sns\n",
    "sns.set('talk')\n",
    "sns.set_style('white')\n",
    "\n",
    "from sklearn.preprocessing import LabelEncoder\n",
    "\n",
    "import warnings\n",
    "warnings.simplefilter(action='ignore', category=FutureWarning)\n",
    "from tqdm import tqdm\n",
    "tqdm.pandas()"
   ]
  },
  {
   "cell_type": "code",
   "execution_count": 2,
   "metadata": {
    "ExecuteTime": {
     "end_time": "2020-08-10T05:58:29.537166Z",
     "start_time": "2020-08-10T05:58:29.301667Z"
    }
   },
   "outputs": [],
   "source": [
    "train = pd.read_csv('../../data/train.csv')\n",
    "test = pd.read_csv('../../data/test.csv')\n",
    "users = pd.read_csv('../../data/users.csv')"
   ]
  },
  {
   "cell_type": "code",
   "execution_count": 3,
   "metadata": {
    "ExecuteTime": {
     "end_time": "2020-08-10T05:58:29.663433Z",
     "start_time": "2020-08-10T05:58:29.538167Z"
    }
   },
   "outputs": [],
   "source": [
    "train = pd.merge(train, users, on=['user_id'], how='left')\n",
    "test = pd.merge(test, users, on=['user_id'], how='left')"
   ]
  },
  {
   "cell_type": "code",
   "execution_count": 4,
   "metadata": {
    "ExecuteTime": {
     "end_time": "2020-08-10T05:58:30.060116Z",
     "start_time": "2020-08-10T05:58:29.664981Z"
    }
   },
   "outputs": [],
   "source": [
    "train['domain'] = train['domain'].replace(r'@(\\w+).com', r'\\1', regex=True)\n",
    "test['domain'] = test['domain'].replace(r'@(\\w+).com', r'\\1', regex=True)"
   ]
  },
  {
   "cell_type": "code",
   "execution_count": 5,
   "metadata": {
    "ExecuteTime": {
     "end_time": "2020-08-10T05:58:30.091011Z",
     "start_time": "2020-08-10T05:58:30.060834Z"
    }
   },
   "outputs": [],
   "source": [
    "encoder = LabelEncoder()\n",
    "\n",
    "train['domain'] = encoder.fit_transform(train['domain'])\n",
    "test['domain'] = encoder.transform(test['domain'])"
   ]
  },
  {
   "cell_type": "code",
   "execution_count": 6,
   "metadata": {
    "ExecuteTime": {
     "end_time": "2020-08-10T05:58:30.137432Z",
     "start_time": "2020-08-10T05:58:30.091909Z"
    }
   },
   "outputs": [],
   "source": [
    "left = train[train['country_code'] != 1]\n",
    "x_prime = len(left)\n",
    "n = int((0.3*x_prime)/(0.7))\n",
    "sample = train[train['country_code'] == 1].sample(n=n, random_state=42)\n",
    "train = pd.concat([sample, left], axis=0)"
   ]
  },
  {
   "cell_type": "code",
   "execution_count": 7,
   "metadata": {
    "ExecuteTime": {
     "end_time": "2020-08-10T05:58:30.169472Z",
     "start_time": "2020-08-10T05:58:30.138462Z"
    }
   },
   "outputs": [],
   "source": [
    "min_sub = test['subject_line_length'].min()\n",
    "max_sub = test['subject_line_length'].max()\n",
    "train = train[(train['subject_line_length'] <= max_sub) & (train['subject_line_length'] >= min_sub)]"
   ]
  },
  {
   "cell_type": "code",
   "execution_count": 8,
   "metadata": {
    "ExecuteTime": {
     "end_time": "2020-08-10T05:58:30.217344Z",
     "start_time": "2020-08-10T05:58:30.173426Z"
    }
   },
   "outputs": [
    {
     "data": {
      "text/plain": [
       "0.15001908639776054"
      ]
     },
     "execution_count": 8,
     "metadata": {},
     "output_type": "execute_result"
    }
   ],
   "source": [
    "probe_positive_rate = 0.147\n",
    "number_positive_required = int(0.147 * len(train))\n",
    "left = train[train['open_flag'] == 0]\n",
    "sample = train[train['open_flag'] == 1].sample(n=number_positive_required, random_state=42)\n",
    "train = pd.concat([sample, left], axis=0)\n",
    "train['open_flag'].mean()"
   ]
  },
  {
   "cell_type": "code",
   "execution_count": 9,
   "metadata": {
    "ExecuteTime": {
     "end_time": "2020-08-10T05:58:30.914367Z",
     "start_time": "2020-08-10T05:58:30.220888Z"
    }
   },
   "outputs": [],
   "source": [
    "train.to_csv('train.csv', index=False)\n",
    "test.to_csv('test.csv', index=False)"
   ]
  }
 ],
 "metadata": {
  "kernelspec": {
   "display_name": "Python 3",
   "language": "python",
   "name": "python3"
  },
  "language_info": {
   "codemirror_mode": {
    "name": "ipython",
    "version": 3
   },
   "file_extension": ".py",
   "mimetype": "text/x-python",
   "name": "python",
   "nbconvert_exporter": "python",
   "pygments_lexer": "ipython3",
   "version": "3.7.7"
  },
  "toc": {
   "base_numbering": 1,
   "nav_menu": {},
   "number_sections": true,
   "sideBar": true,
   "skip_h1_title": false,
   "title_cell": "Table of Contents",
   "title_sidebar": "Contents",
   "toc_cell": false,
   "toc_position": {},
   "toc_section_display": true,
   "toc_window_display": false
  }
 },
 "nbformat": 4,
 "nbformat_minor": 4
}
