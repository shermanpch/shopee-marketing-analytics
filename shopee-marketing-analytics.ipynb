{
 "cells": [
  {
   "cell_type": "code",
   "execution_count": 1,
   "metadata": {
    "ExecuteTime": {
     "end_time": "2020-08-11T02:32:02.346730Z",
     "start_time": "2020-08-11T02:32:00.616552Z"
    }
   },
   "outputs": [],
   "source": [
    "import pandas as pd\n",
    "pd.options.display.max_columns = None\n",
    "pd.options.mode.chained_assignment = None\n",
    "import numpy as np\n",
    " \n",
    "import matplotlib.pyplot as plt\n",
    "import seaborn as sns\n",
    "sns.set('talk')\n",
    "sns.set_style('white')\n",
    "\n",
    "import lightgbm\n",
    "from sklearn.model_selection import StratifiedKFold, RepeatedStratifiedKFold, RepeatedKFold\n",
    "from sklearn.metrics import roc_auc_score, matthews_corrcoef\n",
    "\n",
    "from hyperopt import Trials, STATUS_OK, tpe, fmin, hp\n",
    "from timeit import default_timer as timer\n",
    "import pickle\n",
    "from numba import jit\n",
    "\n",
    "import warnings\n",
    "warnings.filterwarnings('ignore')"
   ]
  },
  {
   "cell_type": "code",
   "execution_count": 2,
   "metadata": {
    "ExecuteTime": {
     "end_time": "2020-08-11T02:32:02.362747Z",
     "start_time": "2020-08-11T02:32:02.351680Z"
    }
   },
   "outputs": [],
   "source": [
    "import os\n",
    "import glob\n",
    "\n",
    "files = glob.glob('hyperopt/*')\n",
    "for f in files:\n",
    "    os.remove(f)\n",
    "    \n",
    "files = glob.glob('model/*')\n",
    "for f in files:\n",
    "    os.remove(f)"
   ]
  },
  {
   "cell_type": "code",
   "execution_count": 3,
   "metadata": {
    "ExecuteTime": {
     "end_time": "2020-08-11T02:32:02.569205Z",
     "start_time": "2020-08-11T02:32:02.363737Z"
    }
   },
   "outputs": [],
   "source": [
    "train = pd.read_csv('../../data/data-lgbm/train_data.csv')\n",
    "test = pd.read_csv('../../data/data-lgbm/test_data.csv')\n",
    "test_rowid = pd.read_csv('../../data/test.csv', usecols=['row_id'])"
   ]
  },
  {
   "cell_type": "code",
   "execution_count": 4,
   "metadata": {
    "ExecuteTime": {
     "end_time": "2020-08-11T02:32:02.585240Z",
     "start_time": "2020-08-11T02:32:02.571199Z"
    }
   },
   "outputs": [],
   "source": [
    "RANDOM_SEED = 42\n",
    "FOLDS = 5\n",
    "N_REPEATS = 1"
   ]
  },
  {
   "cell_type": "code",
   "execution_count": 5,
   "metadata": {
    "ExecuteTime": {
     "end_time": "2020-08-11T02:32:02.632117Z",
     "start_time": "2020-08-11T02:32:02.588232Z"
    }
   },
   "outputs": [
    {
     "name": "stdout",
     "output_type": "stream",
     "text": [
      "Number of features: 23\n"
     ]
    }
   ],
   "source": [
    "X = train.drop(columns=['open_flag'])\n",
    "columns_order = X.columns\n",
    "X_test = test[columns_order].values\n",
    "\n",
    "X = X.values\n",
    "Y = train['open_flag'].values\n",
    "print('Number of features: {}'.format(X.shape[1]))"
   ]
  },
  {
   "cell_type": "code",
   "execution_count": 6,
   "metadata": {
    "ExecuteTime": {
     "end_time": "2020-08-11T02:32:02.647075Z",
     "start_time": "2020-08-11T02:32:02.636105Z"
    }
   },
   "outputs": [],
   "source": [
    "def MCC(y_prob, dataset):\n",
    "    y_true = dataset.get_label()\n",
    "    mcc = eval_mcc(y_true, y_prob)\n",
    "    return 'MCC', mcc, True"
   ]
  },
  {
   "cell_type": "code",
   "execution_count": 7,
   "metadata": {
    "ExecuteTime": {
     "end_time": "2020-08-11T02:32:02.663030Z",
     "start_time": "2020-08-11T02:32:02.650068Z"
    }
   },
   "outputs": [],
   "source": [
    "@jit\n",
    "def mcc(tp, tn, fp, fn):\n",
    "    sup = tp * tn - fp * fn\n",
    "    inf = (tp + fp) * (tp + fn) * (tn + fp) * (tn + fn)\n",
    "    if inf==0:\n",
    "        return 0\n",
    "    else:\n",
    "        return sup / np.sqrt(inf)\n",
    "@jit    \n",
    "def eval_mcc(y_true, y_prob, show=False):\n",
    "    idx = np.argsort(y_prob)\n",
    "    y_true_sort = y_true[idx]\n",
    "    n = y_true.shape[0]\n",
    "    nump = 1.0 * np.sum(y_true) # number of positive\n",
    "    numn = n - nump # number of negative\n",
    "    tp = nump\n",
    "    tn = 0.0\n",
    "    fp = numn\n",
    "    fn = 0.0\n",
    "    best_mcc = 0.0\n",
    "    best_id = -1\n",
    "    prev_proba = -1\n",
    "    best_proba = -1\n",
    "    mccs = np.zeros(n)\n",
    "    for i in range(n):\n",
    "        # all items with idx < i are predicted negative while others are predicted positive\n",
    "        # only evaluate mcc when probability changes\n",
    "        proba = y_prob[idx[i]]\n",
    "        if proba != prev_proba:\n",
    "            prev_proba = proba\n",
    "            new_mcc = mcc(tp, tn, fp, fn)\n",
    "            if new_mcc >= best_mcc:\n",
    "                best_mcc = new_mcc\n",
    "                best_id = i\n",
    "                best_proba = proba\n",
    "        mccs[i] = new_mcc\n",
    "        if y_true_sort[i] == 1:\n",
    "            tp -= 1.0\n",
    "            fn += 1.0\n",
    "        else:\n",
    "            fp -= 1.0\n",
    "            tn += 1.0\n",
    "    if show:\n",
    "        y_pred = (y_prob >= best_proba).astype(int)\n",
    "        return best_proba, best_mcc, y_pred\n",
    "    else:\n",
    "        return best_mcc"
   ]
  },
  {
   "cell_type": "code",
   "execution_count": 8,
   "metadata": {
    "ExecuteTime": {
     "end_time": "2020-08-11T02:32:02.678989Z",
     "start_time": "2020-08-11T02:32:02.665026Z"
    }
   },
   "outputs": [],
   "source": [
    "skf = RepeatedKFold(n_splits=FOLDS, n_repeats=N_REPEATS, random_state=RANDOM_SEED)"
   ]
  },
  {
   "cell_type": "code",
   "execution_count": 9,
   "metadata": {
    "ExecuteTime": {
     "end_time": "2020-08-11T02:32:02.694947Z",
     "start_time": "2020-08-11T02:32:02.683978Z"
    }
   },
   "outputs": [],
   "source": [
    "categorical_features = ['country_code', 'grass_day', 'domain', 'attr_1', 'attr_2', 'attr_3']\n",
    "categorical_index = [c for c, col in enumerate(columns_order) if col in categorical_features]"
   ]
  },
  {
   "cell_type": "code",
   "execution_count": 10,
   "metadata": {
    "ExecuteTime": {
     "end_time": "2020-08-11T02:35:51.464059Z",
     "start_time": "2020-08-11T02:32:02.699935Z"
    },
    "scrolled": true
   },
   "outputs": [
    {
     "name": "stdout",
     "output_type": "stream",
     "text": [
      "100%|███████████████████████████████████████████████| 10/10 [00:42<00:00,  4.29s/trial, best loss: -0.5396515954918997]\n",
      "Found saved Trials! Loading...\n",
      "Rerunning from 10 trials to 20 (+10) trials\n",
      "100%|███████████████████████████████████████████████| 20/20 [00:46<00:00,  2.33s/trial, best loss: -0.5396515954918997]\n",
      "Found saved Trials! Loading...\n",
      "Rerunning from 20 trials to 30 (+10) trials\n",
      "100%|███████████████████████████████████████████████| 30/30 [00:50<00:00,  1.68s/trial, best loss: -0.5408003470817686]\n",
      "Found saved Trials! Loading...\n",
      "Rerunning from 30 trials to 40 (+10) trials\n",
      "100%|███████████████████████████████████████████████| 40/40 [00:41<00:00,  1.05s/trial, best loss: -0.5408003470817686]\n",
      "Found saved Trials! Loading...\n",
      "Rerunning from 40 trials to 50 (+10) trials\n",
      "100%|███████████████████████████████████████████████| 50/50 [00:41<00:00,  1.20trial/s, best loss: -0.5419921073682545]\n",
      "Reached end of search\n",
      "\n",
      "Best loss: -0.5420\n",
      "lgbm: {'lambda_l1': 3.2438460371091287, 'lambda_l2': 2.093195908086044, 'min_gain_to_split': 0.2094580206681224, 'num_leaves': 30, 'objective': 'binary', 'seed': 42}\n",
      "\n",
      "*************************************************************************************\n",
      "Training fold 0...\n",
      "Training fold 1...\n",
      "Training fold 2...\n",
      "Training fold 3...\n",
      "Training fold 4...\n",
      "\n",
      "Fold Average MCC: 0.5420 ± 0.0116\n",
      "Fold Average threshold: 0.3566 ± 0.0503\n",
      "\n",
      "Out of Fold MCC: 0.5368\n",
      "Out of Fold threshold: 0.3600\n",
      "\n",
      "Threshold: 0.2800\n"
     ]
    }
   ],
   "source": [
    "search_space = {\n",
    "#     'device_type': hp.choice('device_type', ['cpu']),\n",
    "#     'boosting': hp.choice('boosting', ['gbdt']),\n",
    "'objective': hp.choice('objective', ['binary']),\n",
    "'seed': hp.choice('seed', [RANDOM_SEED]),\n",
    "#     'boost_from_average': hp.choice('boost_from_average', [False]), \n",
    "#     'bagging_freq': hp.choice('bagging_freq', [1]),\n",
    "#     'use_missing': hp.choice('use_missing', [False]),\n",
    "#     'learning_rate': hp.loguniform('learning_rate', np.log(0.001), np.log(0.1)),\n",
    "'min_gain_to_split': hp.uniform('min_gain_to_split', 0, 1),\n",
    "#     'max_depth': hp.choice('max_depth', range(2, 6)),\n",
    "'num_leaves': hp.choice('num_leaves', range(4, 33)),\n",
    "#     'bagging_fraction': hp.uniform('bagging_fraction', 0.5, 1),\n",
    "#     'feature_fraction': hp.uniform('feature_fraction', 0.5, 1),\n",
    "'lambda_l1': hp.uniform('lambda_l1', 0, 10),\n",
    "'lambda_l2': hp.uniform('lambda_l2', 0, 10),\n",
    "#     'scale_pos_weight': hp.choice('scale_pos_weight', range(1, 8))\n",
    "}\n",
    "    \n",
    "def opt(params):\n",
    "    start = timer()\n",
    "    oof_prob_arr = np.zeros(Y.shape)\n",
    "    oof_prob_df = train[['open_flag']].copy()\n",
    "    test_prob_arr = []\n",
    "    test_prob_df = test_rowid.copy()\n",
    "    fold_mcc = np.zeros(FOLDS*N_REPEATS)\n",
    "    fold_threshold = np.zeros(FOLDS*N_REPEATS)\n",
    "    for fold, (trn_ind, val_ind) in enumerate(skf.split(X)):\n",
    "        X_train, X_valid = X[trn_ind], X[val_ind]\n",
    "        Y_train, Y_valid = Y[trn_ind], Y[val_ind]\n",
    "        evals_dic = {}\n",
    "        train_data = lightgbm.Dataset(X_train, label=Y_train, categorical_feature=categorical_index, free_raw_data=True)\n",
    "        valid_data = lightgbm.Dataset(X_valid, label=Y_valid, categorical_feature=categorical_index, reference=train_data, free_raw_data=True)\n",
    "        gbm = lightgbm.train(params, train_data, valid_sets=valid_data, num_boost_round=5000, early_stopping_rounds=100, feval=MCC, evals_result=evals_dic, verbose_eval=False)\n",
    "        \n",
    "        train_prob = gbm.predict(X_valid, num_iteration=gbm.best_iteration)\n",
    "        threshold, mcc, _ = eval_mcc(Y_valid, train_prob, show=True)\n",
    "        fold_mcc[fold], fold_threshold[fold] = mcc, threshold\n",
    "        oof_prob_arr[val_ind] = train_prob\n",
    "        test_prob = gbm.predict(X_test, num_iteration=gbm.best_iteration)\n",
    "        test_prob_arr.append(test_prob)\n",
    "    \n",
    "    oof_threshold, oof_mcc, _ = eval_mcc(Y, oof_prob_arr, show=True)\n",
    "    mean_mcc, std_mcc = fold_mcc.mean(), fold_mcc.std()\n",
    "    mean_threshold, std_threshold = fold_threshold.mean(), fold_threshold.std()\n",
    "    loss = -mean_mcc\n",
    "    run_time = timer() - start\n",
    "    return {'loss': loss, 'params': params, 'train_time': run_time, 'status': STATUS_OK}\n",
    "\n",
    "def run_trials():\n",
    "    trials_step = 10  # how many additional trials to do after loading saved trials. 1 = save after iteration\n",
    "    max_trials = 10  # initial max_trials. put something small to not have to wait\n",
    "\n",
    "    try:  # try to load an already saved trials object, and increase the max\n",
    "        trials = pickle.load(open('hyperopt/trials.hyperopt', 'rb'))\n",
    "        print(\"Found saved Trials! Loading...\")\n",
    "        max_trials = len(trials.trials) + trials_step\n",
    "        print(\"Rerunning from {} trials to {} (+{}) trials\".format(len(trials.trials), max_trials, trials_step))\n",
    "    except:  # create a new trials object and start searching\n",
    "        trials = Trials()\n",
    "\n",
    "    best = fmin(fn=opt, space=search_space, algo=tpe.suggest, max_evals=max_trials, trials=trials)\n",
    "\n",
    "    # save the trials object\n",
    "    with open('hyperopt/trials.hyperopt', 'wb') as f:\n",
    "        pickle.dump(trials, f)\n",
    "\n",
    "i = 0\n",
    "while True:\n",
    "    run_trials()\n",
    "    i += 10\n",
    "    if i == 50:\n",
    "        print('Reached end of search')\n",
    "        print('')\n",
    "        break\n",
    "\n",
    "bestParams = {}\n",
    "trials = pickle.load(open('hyperopt/trials.hyperopt', 'rb'))\n",
    "sorted_results = sorted(trials.results, key=lambda x: x['loss'])\n",
    "results = {}\n",
    "for dic in sorted_results:\n",
    "    loss = dic['loss']\n",
    "    results[loss] = dic['params']\n",
    "    \n",
    "best_loss = list(results.keys())[0]\n",
    "bestParams['lgbm'] = results[best_loss]\n",
    "print('Best loss: {:.4f}'.format(best_loss))\n",
    "print('{}: {}'.format('lgbm', bestParams['lgbm']))\n",
    "print('')\n",
    "print('*************************************************************************************')\n",
    "\n",
    "bestLGBMparams = bestParams['lgbm']\n",
    "oof_prob_arr = np.zeros(Y.shape)\n",
    "oof_prob_df = train[['open_flag']].copy()\n",
    "test_prob_arr = []\n",
    "test_prob_df = test_rowid.copy()\n",
    "fold_mcc = np.zeros(FOLDS*N_REPEATS)\n",
    "fold_threshold = np.zeros(FOLDS*N_REPEATS)\n",
    "\n",
    "for fold, (trn_ind, val_ind) in enumerate(skf.split(X)):\n",
    "    print('Training fold {}...'.format(fold))\n",
    "    X_train, X_valid = X[trn_ind], X[val_ind]\n",
    "    Y_train, Y_valid = Y[trn_ind], Y[val_ind]\n",
    "    train_data = lightgbm.Dataset(X_train, label=Y_train, categorical_feature=categorical_index)\n",
    "    valid_data = lightgbm.Dataset(X_valid, label=Y_valid, categorical_feature=categorical_index, reference=train_data)\n",
    "    model = lightgbm.train(bestLGBMparams, train_data, valid_sets=valid_data, num_boost_round=5000, feval=MCC, early_stopping_rounds=100, verbose_eval=False)\n",
    "    \n",
    "    train_prob = model.predict(X_valid, num_iteration=model.best_iteration)\n",
    "    threshold, mcc, _ = eval_mcc(Y_valid, train_prob, show=True)\n",
    "    fold_mcc[fold], fold_threshold[fold] = mcc, threshold\n",
    "    oof_prob_arr[val_ind] = train_prob\n",
    "    test_prob = model.predict(X_test, num_iteration=model.best_iteration)\n",
    "    test_prob_arr.append(test_prob)\n",
    "\n",
    "oof_threshold, oof_mcc, _ = eval_mcc(Y, oof_prob_arr, show=True)\n",
    "mean_mcc, std_mcc = fold_mcc.mean(), fold_mcc.std()\n",
    "mean_threshold, std_threshold = fold_threshold.mean(), fold_threshold.std()\n",
    "print('')\n",
    "print('Fold Average MCC: {:.4f} \\u00B1 {:.4f}'.format(mean_mcc, std_mcc))\n",
    "print('Fold Average threshold: {:.4f} \\u00B1 {:.4f}'.format(mean_threshold, std_threshold))\n",
    "print('')\n",
    "print('Out of Fold MCC: {:.4f}'.format(oof_mcc))\n",
    "print('Out of Fold threshold: {:.4f}'.format(oof_threshold))\n",
    "\n",
    "def bestThreshold(prob, minimum, maximum):\n",
    "    true_positive = 2476\n",
    "    diff = np.inf\n",
    "    best_threshold = -1\n",
    "    for thr in np.arange(minimum, maximum, 0.001):\n",
    "        positive = (prob > thr).sum()*0.3\n",
    "        current_diff = np.abs(true_positive - positive)\n",
    "        if current_diff < diff:\n",
    "            diff = current_diff\n",
    "            best_threshold = thr\n",
    "    return best_threshold\n",
    "\n",
    "oof_prob_df['prob'] = oof_prob_arr\n",
    "test_prob_df['prob'] = np.mean(test_prob_arr, axis=0).flatten()\n",
    "\n",
    "minimum = float('{:.2f}'.format(mean_threshold-1.5*std_threshold))\n",
    "maximum = float('{:.2f}'.format(mean_threshold+1.5*std_threshold))\n",
    "best_threshold = bestThreshold(test_prob_df['prob'].values, minimum, maximum)\n",
    "print('')\n",
    "print('Threshold: {:.4f}'.format(best_threshold))\n",
    "\n",
    "test_prob_df['open_flag'] = (test_prob_df['prob'] >= best_threshold).astype(int)\n",
    "oof_prob_df.to_csv('train/prob.csv', index=False)\n",
    "test_prob_df[['row_id', 'prob']].to_csv('test/prob.csv', index=False)\n",
    "test_prob_df[['row_id', 'open_flag']].to_csv('pred-v2-2.csv', index=False)"
   ]
  }
 ],
 "metadata": {
  "kernelspec": {
   "display_name": "Python 3",
   "language": "python",
   "name": "python3"
  },
  "language_info": {
   "codemirror_mode": {
    "name": "ipython",
    "version": 3
   },
   "file_extension": ".py",
   "mimetype": "text/x-python",
   "name": "python",
   "nbconvert_exporter": "python",
   "pygments_lexer": "ipython3",
   "version": "3.7.7"
  },
  "toc": {
   "base_numbering": 1,
   "nav_menu": {},
   "number_sections": true,
   "sideBar": true,
   "skip_h1_title": false,
   "title_cell": "Table of Contents",
   "title_sidebar": "Contents",
   "toc_cell": false,
   "toc_position": {},
   "toc_section_display": true,
   "toc_window_display": false
  }
 },
 "nbformat": 4,
 "nbformat_minor": 4
}
